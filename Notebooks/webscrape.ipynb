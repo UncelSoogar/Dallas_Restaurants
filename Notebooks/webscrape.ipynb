{
 "cells": [
  {
   "cell_type": "code",
   "execution_count": 1,
   "metadata": {},
   "outputs": [],
   "source": [
    "#Dependencies\n",
    "from bs4 import BeautifulSoup\n",
    "import pandas as pd\n",
    "from splinter import Browser\n",
    "import datetime as datetime\n",
    "import time\n",
    "import json\n",
    "import re"
   ]
  },
  {
   "cell_type": "code",
   "execution_count": null,
   "metadata": {},
   "outputs": [],
   "source": []
  },
  {
   "cell_type": "code",
   "execution_count": 3,
   "metadata": {},
   "outputs": [],
   "source": [
    "#create splinter browser\n",
    "executable_path = {'executable_path':\"../chromedriver.exe\"}\n",
    "browser = Browser('chrome', **executable_path, headless=False)"
   ]
  },
  {
   "cell_type": "code",
   "execution_count": null,
   "metadata": {},
   "outputs": [],
   "source": []
  },
  {
   "cell_type": "code",
   "execution_count": 4,
   "metadata": {},
   "outputs": [],
   "source": [
    "\n",
    "#define url as variable and open with browser\n",
    "url = \"https://dallasites101.com/archive/2020-dallas-restaurant-openings-closings-and-coming-soons\"\n",
    "browser.visit(url)\n",
    "time.sleep(1)\n",
    "html = browser.html\n",
    "soup = BeautifulSoup(html, 'lxml')"
   ]
  },
  {
   "cell_type": "code",
   "execution_count": null,
   "metadata": {},
   "outputs": [],
   "source": []
  },
  {
   "cell_type": "code",
   "execution_count": 58,
   "metadata": {},
   "outputs": [],
   "source": [
    "#Grab lists of openings and closings\n",
    "listings = soup.find_all('ul')"
   ]
  },
  {
   "cell_type": "code",
   "execution_count": 91,
   "metadata": {},
   "outputs": [
    {
     "data": {
      "text/plain": [
       "'https://www.duggburger.com'"
      ]
     },
     "execution_count": 91,
     "metadata": {},
     "output_type": "execute_result"
    }
   ],
   "source": [
    "# List order: 0=Rest Open, 1= Rest Soon, 2= Rest Closed, 3 = Bar Open, 4 = Bar Soon,\n",
    "            # 5 = Bar Closed, 6 = Sweets Open, 7 = Sweets Soon, 8= Sweets Closed, \n",
    "            # 9 = Cafe Open, 10 = Cafe Soon, 11 = Cafe Closed\n",
    "test =listings[0].find_all('li')\n",
    "test1 = test[19].find('a').get('href')\n",
    "test1"
   ]
  },
  {
   "cell_type": "code",
   "execution_count": null,
   "metadata": {},
   "outputs": [],
   "source": []
  },
  {
   "cell_type": "code",
   "execution_count": 101,
   "metadata": {},
   "outputs": [
    {
     "name": "stdout",
     "output_type": "stream",
     "text": [
      "['12/28/20', '12/28/20', '12/28/20', '12/28/20', '12/28/20', '12/28/20', '12/28/20', '12/28/20', '12/28/20', '12/28/20', '12/28/20', '12/28/20', '12/28/20', '12/28/20', '12/28/20', '12/28/20', '12/28/20', '12/28/20', '12/28/20', '12/28/20', '12/28/20', '12/28/20', '12/28/20', '12/28/20', '12/28/20', '12/28/20', '12/28/20', '12/28/20', '12/28/20', '12/28/20', '12/28/20', '12/28/20', '12/28/20', '12/28/20', '12/28/20', '12/28/20', '12/28/20', '12/28/20', '12/28/20', '12/28/20', '12/28/20', '12/28/20', '12/28/20', '12/28/20', '12/28/20', '12/28/20', '12/28/20', '12/28/20', '12/28/20', '12/28/20', '12/28/20', '12/28/20', '12/28/20', '12/28/20', '12/28/20', '12/28/20', '12/28/20', '12/28/20', '12/28/20', '12/28/20', '12/28/20', '12/28/20', '12/28/20', '12/28/20', '12/28/20', '12/28/20', '12/28/20', '12/28/20', '12/28/20', '12/28/20', '12/28/20', '12/28/20', '12/28/20', '12/28/20', '12/28/20', '12/28/20', '12/28/20', '12/28/20', '12/28/20', '12/28/20', '12/28/20', '12/28/20', '12/28/20', '12/28/20', '12/28/20', '12/28/20', '12/28/20', '12/28/20', '12/28/20', '12/28/20', '12/28/20', '12/28/20', '12/28/20', '12/28/20', '12/28/20', '12/28/20', '12/28/20', '12/28/20', '12/28/20']\n"
     ]
    }
   ],
   "source": [
    "name =[]\n",
    "neighborhood = []\n",
    "kind = []\n",
    "status = []\n",
    "hyperlink = []\n",
    "date = []\n",
    "\n",
    "for listing in listings[0].find_all('li'):\n",
    "    temp = listing.find('p')\n",
    "    temptext = temp.text.replace(\"\\xa0\", \" \")\n",
    "    temptext = temptext.split(' | ')\n",
    "    name.append(temptext[0])\n",
    "    neighborhood.append(temptext[1])\n",
    "    kind.append('Restaurant')\n",
    "    status.append('Open')\n",
    "    try:\n",
    "        templink = listing.find('a').get('href')\n",
    "        hyperlink.append(templink)\n",
    "    except AttributeError:\n",
    "        hyperlink.append(None)\n",
    "    date.append(datetime.datetime.today().strftime(\"%m/%d/%y\"))\n"
   ]
  },
  {
   "cell_type": "code",
   "execution_count": 23,
   "metadata": {},
   "outputs": [
    {
     "data": {
      "text/plain": [
       "'A'"
      ]
     },
     "execution_count": 23,
     "metadata": {},
     "output_type": "execute_result"
    }
   ],
   "source": [
    "test[1].find('p').text"
   ]
  },
  {
   "cell_type": "code",
   "execution_count": 37,
   "metadata": {},
   "outputs": [
    {
     "data": {
      "text/plain": [
       "12"
      ]
     },
     "execution_count": 37,
     "metadata": {},
     "output_type": "execute_result"
    }
   ],
   "source": [
    "len(listings)"
   ]
  },
  {
   "cell_type": "code",
   "execution_count": 41,
   "metadata": {},
   "outputs": [
    {
     "data": {
      "text/plain": [
       "<ul data-rte-list=\"default\"><li><p class=\"\" style=\"white-space:pre-wrap;\">Good Companions | <em>Bishop Arts</em></p></li><li><p class=\"\" style=\"white-space:pre-wrap;\">StellaNova | <em>Park Cities</em></p></li></ul>"
      ]
     },
     "execution_count": 41,
     "metadata": {},
     "output_type": "execute_result"
    }
   ],
   "source": [
    "listings[11]"
   ]
  }
 ],
 "metadata": {
  "kernelspec": {
   "display_name": "Python 3",
   "language": "python",
   "name": "python3"
  },
  "language_info": {
   "codemirror_mode": {
    "name": "ipython",
    "version": 3
   },
   "file_extension": ".py",
   "mimetype": "text/x-python",
   "name": "python",
   "nbconvert_exporter": "python",
   "pygments_lexer": "ipython3",
   "version": "3.7.4"
  }
 },
 "nbformat": 4,
 "nbformat_minor": 2
}
